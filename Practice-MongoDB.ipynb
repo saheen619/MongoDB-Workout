{
 "cells": [
  {
   "cell_type": "code",
   "execution_count": 2,
   "metadata": {},
   "outputs": [
    {
     "name": "stdout",
     "output_type": "stream",
     "text": [
      "Defaulting to user installation because normal site-packages is not writeable\n",
      "Collecting pymongo\n",
      "  Downloading pymongo-4.3.3-cp310-cp310-win_amd64.whl (382 kB)\n",
      "     -------------------------------------- 382.5/382.5 kB 1.6 MB/s eta 0:00:00\n",
      "Collecting dnspython<3.0.0,>=1.16.0\n",
      "  Downloading dnspython-2.3.0-py3-none-any.whl (283 kB)\n",
      "     -------------------------------------- 283.7/283.7 kB 8.8 MB/s eta 0:00:00\n",
      "Installing collected packages: dnspython, pymongo\n",
      "Successfully installed dnspython-2.3.0 pymongo-4.3.3\n",
      "Note: you may need to restart the kernel to use updated packages.\n"
     ]
    },
    {
     "name": "stderr",
     "output_type": "stream",
     "text": [
      "\n",
      "[notice] A new release of pip available: 22.2.2 -> 23.1.2\n",
      "[notice] To update, run: python.exe -m pip install --upgrade pip\n"
     ]
    }
   ],
   "source": [
    "pip install pymongo"
   ]
  },
  {
   "cell_type": "code",
   "execution_count": 3,
   "metadata": {},
   "outputs": [],
   "source": [
    "import pymongo"
   ]
  },
  {
   "cell_type": "code",
   "execution_count": null,
   "metadata": {},
   "outputs": [],
   "source": [
    "# CONNECTING WITH MongoDB\n",
    "\n",
    "from pymongo.mongo_client import MongoClient\n",
    "from pymongo.server_api import ServerApi\n",
    "\n",
    "uri = \"<CONNECTION STRING>\"\n",
    "\n",
    "# Create a new client and connect to the server\n",
    "client = MongoClient(uri, server_api=ServerApi('1'))\n",
    "\n",
    "# Send a ping to confirm a successful connection\n",
    "try:\n",
    "    client.admin.command('ping')\n",
    "    print(\"Pinged your deployment. You successfully connected to MongoDB!\")\n",
    "except Exception as e:\n",
    "    print(e)"
   ]
  },
  {
   "cell_type": "code",
   "execution_count": 17,
   "metadata": {},
   "outputs": [
    {
     "data": {
      "text/plain": [
       "['sample_airbnb',\n",
       " 'sample_analytics',\n",
       " 'sample_geospatial',\n",
       " 'sample_guides',\n",
       " 'sample_mflix',\n",
       " 'sample_restaurants',\n",
       " 'sample_supplies',\n",
       " 'sample_training',\n",
       " 'sample_weatherdata',\n",
       " 'test',\n",
       " 'admin',\n",
       " 'local']"
      ]
     },
     "execution_count": 17,
     "metadata": {},
     "output_type": "execute_result"
    }
   ],
   "source": [
    "# Listing the database names.\n",
    "\n",
    "client.list_database_names()"
   ]
  },
  {
   "cell_type": "code",
   "execution_count": 28,
   "metadata": {},
   "outputs": [],
   "source": [
    "# Creating a new database\n",
    "\n",
    "db = client['ineuron']"
   ]
  },
  {
   "cell_type": "code",
   "execution_count": 29,
   "metadata": {},
   "outputs": [],
   "source": [
    "# Creating a new collection inside the database ineuron\n",
    "\n",
    "collection = db['test_collection']"
   ]
  },
  {
   "cell_type": "code",
   "execution_count": 30,
   "metadata": {},
   "outputs": [
    {
     "data": {
      "text/plain": [
       "[]"
      ]
     },
     "execution_count": 30,
     "metadata": {},
     "output_type": "execute_result"
    }
   ],
   "source": [
    "# Listing all the collection names inside the db\n",
    "\n",
    "db.list_collection_names()"
   ]
  },
  {
   "cell_type": "code",
   "execution_count": 31,
   "metadata": {},
   "outputs": [
    {
     "data": {
      "text/plain": [
       "<pymongo.results.InsertOneResult at 0x2a0c54faa70>"
      ]
     },
     "execution_count": 31,
     "metadata": {},
     "output_type": "execute_result"
    }
   ],
   "source": [
    "# Inserting a Document to the collection created\n",
    "\n",
    "collection.insert_one(\n",
    "    {   'Serial No': '9998',\n",
    "        'GRE Score': '337',\n",
    "        'TOEFL Score': '118',\n",
    "        'University Rating': '4',\n",
    "        'SOP': '4.5',\n",
    "        'LOR': '4.5',\n",
    "        'CGPA': '9.65',\n",
    "        'Research': '1',\n",
    "        'Chance of Admit': '0.92'\n",
    "    }\n",
    ")"
   ]
  },
  {
   "cell_type": "code",
   "execution_count": 32,
   "metadata": {},
   "outputs": [
    {
     "data": {
      "text/plain": [
       "['test_collection']"
      ]
     },
     "execution_count": 32,
     "metadata": {},
     "output_type": "execute_result"
    }
   ],
   "source": [
    "db.list_collection_names()"
   ]
  },
  {
   "cell_type": "code",
   "execution_count": 34,
   "metadata": {},
   "outputs": [
    {
     "data": {
      "text/plain": [
       "ObjectId('64629501376999061da6c368')"
      ]
     },
     "execution_count": 34,
     "metadata": {},
     "output_type": "execute_result"
    }
   ],
   "source": [
    "# ObjectID of the inserted Document\n",
    "\n",
    "collection.insert_one(\n",
    "    {   'Serial No': '9998',\n",
    "        'GRE Score': '337',\n",
    "        'TOEFL Score': '118',\n",
    "        'University Rating': '4',\n",
    "        'SOP': '4.5',\n",
    "        'LOR': '4.5',\n",
    "        'CGPA': '9.65',\n",
    "        'Research': '1',\n",
    "        'Chance of Admit': '0.92'\n",
    "    }\n",
    ").inserted_id"
   ]
  },
  {
   "attachments": {},
   "cell_type": "markdown",
   "metadata": {},
   "source": [
    "### To list all the documents inside the collection:"
   ]
  },
  {
   "cell_type": "code",
   "execution_count": 42,
   "metadata": {},
   "outputs": [
    {
     "data": {
      "text/plain": [
       "<pymongo.cursor.Cursor at 0x2a0c5658970>"
      ]
     },
     "execution_count": 42,
     "metadata": {},
     "output_type": "execute_result"
    }
   ],
   "source": [
    "collection.find()"
   ]
  },
  {
   "cell_type": "code",
   "execution_count": 43,
   "metadata": {},
   "outputs": [
    {
     "name": "stdout",
     "output_type": "stream",
     "text": [
      "{'_id': ObjectId('64629443376999061da6c366'), 'Serial No': '9998', 'GRE Score': '337', 'TOEFL Score': '118', 'University Rating': '4', 'SOP': '4.5', 'LOR': '4.5', 'CGPA': '9.65', 'Research': '1', 'Chance of Admit': '0.92'}\n",
      "{'_id': ObjectId('646294f8376999061da6c367'), 'Serial No': '9998', 'GRE Score': '337', 'TOEFL Score': '118', 'University Rating': '4', 'SOP': '4.5', 'LOR': '4.5', 'CGPA': '9.65', 'Research': '1', 'Chance of Admit': '0.92'}\n",
      "{'_id': ObjectId('64629501376999061da6c368'), 'Serial No': '9998', 'GRE Score': '337', 'TOEFL Score': '118', 'University Rating': '4', 'SOP': '4.5', 'LOR': '4.5', 'CGPA': '9.65', 'Research': '1', 'Chance of Admit': '0.92'}\n"
     ]
    }
   ],
   "source": [
    "for i in collection.find():\n",
    "    print(i)"
   ]
  },
  {
   "cell_type": "code",
   "execution_count": 44,
   "metadata": {},
   "outputs": [],
   "source": [
    "# In the above result, please note, that even in though the records are duplicated, NOTE that the ObjectID foreach documents are unique"
   ]
  },
  {
   "cell_type": "code",
   "execution_count": 45,
   "metadata": {},
   "outputs": [],
   "source": [
    "# Inserting many documents at once:\n",
    "\n",
    "l = [{   'Serial No': '9948',\n",
    "        'GRE Score': '327',\n",
    "        'TOEFL Score': '100',\n",
    "        'University Rating': '4',\n",
    "        'SOP': '3.5',\n",
    "        'LOR': '4.5',\n",
    "        'CGPA': '9.00',\n",
    "        'Research': '1',\n",
    "        'Chance of Admit': '0.83'\n",
    "    },\n",
    "    {   'Serial No': '9298',\n",
    "        'GRE Score': '300',\n",
    "        'TOEFL Score': '128',\n",
    "        'University Rating': '3',\n",
    "        'SOP': '4',\n",
    "        'LOR': '4.5',\n",
    "        'CGPA': '5.65',\n",
    "        'Research': '1',\n",
    "        'Chance of Admit': '0.75'\n",
    "    },\n",
    "    {   'Serial No': '9999',\n",
    "        'GRE Score': '349',\n",
    "        'TOEFL Score': '141',\n",
    "        'University Rating': '4',\n",
    "        'SOP': '4.9',\n",
    "        'LOR': '4.7',\n",
    "        'CGPA': '9.95',\n",
    "        'Research': '1',\n",
    "        'Chance of Admit': '0.95'\n",
    "    }]"
   ]
  },
  {
   "cell_type": "code",
   "execution_count": 46,
   "metadata": {},
   "outputs": [
    {
     "data": {
      "text/plain": [
       "<pymongo.results.InsertManyResult at 0x2a0c565a740>"
      ]
     },
     "execution_count": 46,
     "metadata": {},
     "output_type": "execute_result"
    }
   ],
   "source": [
    "collection.insert_many(l)"
   ]
  },
  {
   "cell_type": "code",
   "execution_count": 47,
   "metadata": {},
   "outputs": [
    {
     "name": "stdout",
     "output_type": "stream",
     "text": [
      "{'_id': ObjectId('64629443376999061da6c366'), 'Serial No': '9998', 'GRE Score': '337', 'TOEFL Score': '118', 'University Rating': '4', 'SOP': '4.5', 'LOR': '4.5', 'CGPA': '9.65', 'Research': '1', 'Chance of Admit': '0.92'}\n",
      "{'_id': ObjectId('646294f8376999061da6c367'), 'Serial No': '9998', 'GRE Score': '337', 'TOEFL Score': '118', 'University Rating': '4', 'SOP': '4.5', 'LOR': '4.5', 'CGPA': '9.65', 'Research': '1', 'Chance of Admit': '0.92'}\n",
      "{'_id': ObjectId('64629501376999061da6c368'), 'Serial No': '9998', 'GRE Score': '337', 'TOEFL Score': '118', 'University Rating': '4', 'SOP': '4.5', 'LOR': '4.5', 'CGPA': '9.65', 'Research': '1', 'Chance of Admit': '0.92'}\n",
      "{'_id': ObjectId('64629858376999061da6c369'), 'Serial No': '9948', 'GRE Score': '327', 'TOEFL Score': '100', 'University Rating': '4', 'SOP': '3.5', 'LOR': '4.5', 'CGPA': '9.00', 'Research': '1', 'Chance of Admit': '0.83'}\n",
      "{'_id': ObjectId('64629858376999061da6c36a'), 'Serial No': '9298', 'GRE Score': '300', 'TOEFL Score': '128', 'University Rating': '3', 'SOP': '4', 'LOR': '4.5', 'CGPA': '5.65', 'Research': '1', 'Chance of Admit': '0.75'}\n",
      "{'_id': ObjectId('64629858376999061da6c36b'), 'Serial No': '9999', 'GRE Score': '349', 'TOEFL Score': '141', 'University Rating': '4', 'SOP': '4.9', 'LOR': '4.7', 'CGPA': '9.95', 'Research': '1', 'Chance of Admit': '0.95'}\n"
     ]
    }
   ],
   "source": [
    "for i in collection.find():\n",
    "    print(i)"
   ]
  },
  {
   "cell_type": "code",
   "execution_count": 52,
   "metadata": {},
   "outputs": [
    {
     "data": {
      "text/plain": [
       "{'_id': ObjectId('64629858376999061da6c36a'),\n",
       " 'Serial No': '9298',\n",
       " 'GRE Score': '300',\n",
       " 'TOEFL Score': '128',\n",
       " 'University Rating': '3',\n",
       " 'SOP': '4',\n",
       " 'LOR': '4.5',\n",
       " 'CGPA': '5.65',\n",
       " 'Research': '1',\n",
       " 'Chance of Admit': '0.75'}"
      ]
     },
     "execution_count": 52,
     "metadata": {},
     "output_type": "execute_result"
    }
   ],
   "source": [
    "# To list the 1st document through indexing:\n",
    "\n",
    "collection.find()[4]"
   ]
  },
  {
   "cell_type": "code",
   "execution_count": 56,
   "metadata": {},
   "outputs": [
    {
     "name": "stdout",
     "output_type": "stream",
     "text": [
      "{'_id': ObjectId('64629443376999061da6c366'), 'Serial No': '9998', 'GRE Score': '337', 'TOEFL Score': '118', 'University Rating': '4', 'SOP': '4.5', 'LOR': '4.5', 'CGPA': '9.65', 'Research': '1', 'Chance of Admit': '0.92'}\n",
      "{'_id': ObjectId('646294f8376999061da6c367'), 'Serial No': '9998', 'GRE Score': '337', 'TOEFL Score': '118', 'University Rating': '4', 'SOP': '4.5', 'LOR': '4.5', 'CGPA': '9.65', 'Research': '1', 'Chance of Admit': '0.92'}\n"
     ]
    }
   ],
   "source": [
    "# Applying limit display of documents:\n",
    "\n",
    "for i in collection.find().limit(2):\n",
    "    print(i)"
   ]
  },
  {
   "cell_type": "code",
   "execution_count": 58,
   "metadata": {},
   "outputs": [],
   "source": [
    "# Adding many more documents into the collection\n",
    "\n",
    "l = [\n",
    "{'Serial No': '9997',\n",
    " 'GRE Score': '337',\n",
    " 'TOEFL Score': '118',\n",
    " 'University Rating': '4',\n",
    " 'SOP': '4.5',\n",
    " 'LOR': '4.5',\n",
    " 'CGPA': '9.65',\n",
    " 'Research': '1',\n",
    " 'Chance of Admit': '0.92'},\n",
    "  \n",
    "  {'Serial No': '9996',\n",
    " 'GRE Score': '336',\n",
    " 'TOEFL Score': '118',\n",
    " 'University Rating': '4',\n",
    " 'SOP': '4.5',\n",
    " 'LOR': '4.5',\n",
    " 'CGPA': '9.6',\n",
    " 'Research': '0',\n",
    " 'Chance of Admit': '0.92'},\n",
    "  \n",
    "  {'Serial No': '9995',\n",
    " 'GRE Score': '340',\n",
    " 'TOEFL Score': '118',\n",
    " 'University Rating': '4',\n",
    " 'SOP': '4.5',\n",
    " 'LOR': '4.5',\n",
    " 'CGPA': '9.5',\n",
    " 'Research': '1',\n",
    " 'Chance of Admit': '0.92'},\n",
    "  \n",
    "  {'Serial No': '9994',\n",
    " 'GRE Score': '334',\n",
    " 'TOEFL Score': '119',\n",
    " 'University Rating': '4',\n",
    " 'SOP': '4.5',\n",
    " 'LOR': '4.5',\n",
    " 'CGPA': '9.4',\n",
    " 'Research': '1',\n",
    " 'Chance of Admit': '0.92'},\n",
    "  \n",
    "  {'Serial No': '9993',\n",
    " 'GRE Score': '317',\n",
    " 'TOEFL Score': '118',\n",
    " 'University Rating': '4',\n",
    " 'SOP': '4.5',\n",
    " 'LOR': '4.5',\n",
    " 'CGPA': '9.65',\n",
    " 'Research': '1',\n",
    " 'Chance of Admit': '0.92'}]"
   ]
  },
  {
   "cell_type": "code",
   "execution_count": 59,
   "metadata": {},
   "outputs": [
    {
     "data": {
      "text/plain": [
       "<pymongo.results.InsertManyResult at 0x2a0c56585b0>"
      ]
     },
     "execution_count": 59,
     "metadata": {},
     "output_type": "execute_result"
    }
   ],
   "source": [
    "collection.insert_many(l)"
   ]
  },
  {
   "cell_type": "code",
   "execution_count": 64,
   "metadata": {},
   "outputs": [
    {
     "name": "stdout",
     "output_type": "stream",
     "text": [
      "{'_id': ObjectId('64629443376999061da6c366'), 'Serial No': '9998', 'GRE Score': '337', 'TOEFL Score': '118', 'University Rating': '4', 'SOP': '4.5', 'LOR': '4.5', 'CGPA': '9.65', 'Research': '1', 'Chance of Admit': '0.92'}\n",
      "{'_id': ObjectId('646294f8376999061da6c367'), 'Serial No': '9998', 'GRE Score': '337', 'TOEFL Score': '118', 'University Rating': '4', 'SOP': '4.5', 'LOR': '4.5', 'CGPA': '9.65', 'Research': '1', 'Chance of Admit': '0.92'}\n",
      "{'_id': ObjectId('64629501376999061da6c368'), 'Serial No': '9998', 'GRE Score': '337', 'TOEFL Score': '118', 'University Rating': '4', 'SOP': '4.5', 'LOR': '4.5', 'CGPA': '9.65', 'Research': '1', 'Chance of Admit': '0.92'}\n",
      "{'_id': ObjectId('64629858376999061da6c369'), 'Serial No': '9948', 'GRE Score': '327', 'TOEFL Score': '100', 'University Rating': '4', 'SOP': '3.5', 'LOR': '4.5', 'CGPA': '9.00', 'Research': '1', 'Chance of Admit': '0.83'}\n",
      "{'_id': ObjectId('64629858376999061da6c36a'), 'Serial No': '9298', 'GRE Score': '300', 'TOEFL Score': '128', 'University Rating': '3', 'SOP': '4', 'LOR': '4.5', 'CGPA': '5.65', 'Research': '1', 'Chance of Admit': '0.75'}\n",
      "{'_id': ObjectId('64629858376999061da6c36b'), 'Serial No': '9999', 'GRE Score': '349', 'TOEFL Score': '141', 'University Rating': '4', 'SOP': '4.9', 'LOR': '4.7', 'CGPA': '9.95', 'Research': '1', 'Chance of Admit': '0.95'}\n",
      "{'_id': ObjectId('64629a66376999061da6c36c'), 'Serial No': '9997', 'GRE Score': '337', 'TOEFL Score': '118', 'University Rating': '4', 'SOP': '4.5', 'LOR': '4.5', 'CGPA': '9.65', 'Research': '1', 'Chance of Admit': '0.92'}\n",
      "{'_id': ObjectId('64629a66376999061da6c36d'), 'Serial No': '9996', 'GRE Score': '336', 'TOEFL Score': '118', 'University Rating': '4', 'SOP': '4.5', 'LOR': '4.5', 'CGPA': '9.6', 'Research': '0', 'Chance of Admit': '0.92'}\n",
      "{'_id': ObjectId('64629a66376999061da6c36e'), 'Serial No': '9995', 'GRE Score': '340', 'TOEFL Score': '118', 'University Rating': '4', 'SOP': '4.5', 'LOR': '4.5', 'CGPA': '9.5', 'Research': '1', 'Chance of Admit': '0.92'}\n",
      "{'_id': ObjectId('64629a66376999061da6c36f'), 'Serial No': '9994', 'GRE Score': '334', 'TOEFL Score': '119', 'University Rating': '4', 'SOP': '4.5', 'LOR': '4.5', 'CGPA': '9.4', 'Research': '1', 'Chance of Admit': '0.92'}\n",
      "{'_id': ObjectId('64629a66376999061da6c370'), 'Serial No': '9993', 'GRE Score': '317', 'TOEFL Score': '118', 'University Rating': '4', 'SOP': '4.5', 'LOR': '4.5', 'CGPA': '9.65', 'Research': '1', 'Chance of Admit': '0.92'}\n"
     ]
    }
   ],
   "source": [
    "for i in collection.find():\n",
    "    print(i)"
   ]
  },
  {
   "cell_type": "code",
   "execution_count": 68,
   "metadata": {},
   "outputs": [
    {
     "data": {
      "text/plain": [
       "<pymongo.cursor.Cursor at 0x2a0c5ca2260>"
      ]
     },
     "execution_count": 68,
     "metadata": {},
     "output_type": "execute_result"
    }
   ],
   "source": [
    "# Querying only particular fields from the colelction \n",
    "\n",
    "collection.find({},{'GRE Score','University Rating'})"
   ]
  },
  {
   "cell_type": "code",
   "execution_count": 67,
   "metadata": {},
   "outputs": [
    {
     "name": "stdout",
     "output_type": "stream",
     "text": [
      "{'_id': ObjectId('64629443376999061da6c366'), 'GRE Score': '337', 'University Rating': '4'}\n",
      "{'_id': ObjectId('646294f8376999061da6c367'), 'GRE Score': '337', 'University Rating': '4'}\n",
      "{'_id': ObjectId('64629501376999061da6c368'), 'GRE Score': '337', 'University Rating': '4'}\n",
      "{'_id': ObjectId('64629858376999061da6c369'), 'GRE Score': '327', 'University Rating': '4'}\n",
      "{'_id': ObjectId('64629858376999061da6c36a'), 'GRE Score': '300', 'University Rating': '3'}\n",
      "{'_id': ObjectId('64629858376999061da6c36b'), 'GRE Score': '349', 'University Rating': '4'}\n",
      "{'_id': ObjectId('64629a66376999061da6c36c'), 'GRE Score': '337', 'University Rating': '4'}\n",
      "{'_id': ObjectId('64629a66376999061da6c36d'), 'GRE Score': '336', 'University Rating': '4'}\n",
      "{'_id': ObjectId('64629a66376999061da6c36e'), 'GRE Score': '340', 'University Rating': '4'}\n",
      "{'_id': ObjectId('64629a66376999061da6c36f'), 'GRE Score': '334', 'University Rating': '4'}\n",
      "{'_id': ObjectId('64629a66376999061da6c370'), 'GRE Score': '317', 'University Rating': '4'}\n"
     ]
    }
   ],
   "source": [
    "for i in collection.find({},{'GRE Score','University Rating'}):\n",
    "    print(i)"
   ]
  },
  {
   "cell_type": "code",
   "execution_count": 73,
   "metadata": {},
   "outputs": [
    {
     "data": {
      "text/plain": [
       "<pymongo.cursor.Cursor at 0x2a0c5ca3a30>"
      ]
     },
     "execution_count": 73,
     "metadata": {},
     "output_type": "execute_result"
    }
   ],
   "source": [
    "# To get a specific field with a specific value\n",
    "\n",
    "collection.find({'TOEFL Score':'141'})"
   ]
  },
  {
   "cell_type": "code",
   "execution_count": 72,
   "metadata": {},
   "outputs": [
    {
     "name": "stdout",
     "output_type": "stream",
     "text": [
      "{'_id': ObjectId('64629858376999061da6c36b'), 'Serial No': '9999', 'GRE Score': '349', 'TOEFL Score': '141', 'University Rating': '4', 'SOP': '4.9', 'LOR': '4.7', 'CGPA': '9.95', 'Research': '1', 'Chance of Admit': '0.95'}\n"
     ]
    }
   ],
   "source": [
    "for i in collection.find({'TOEFL Score':'141'}):\n",
    "    print(i)"
   ]
  },
  {
   "cell_type": "code",
   "execution_count": null,
   "metadata": {},
   "outputs": [],
   "source": []
  }
 ],
 "metadata": {
  "kernelspec": {
   "display_name": "Python 3",
   "language": "python",
   "name": "python3"
  },
  "language_info": {
   "codemirror_mode": {
    "name": "ipython",
    "version": 3
   },
   "file_extension": ".py",
   "mimetype": "text/x-python",
   "name": "python",
   "nbconvert_exporter": "python",
   "pygments_lexer": "ipython3",
   "version": "3.10.7"
  },
  "orig_nbformat": 4
 },
 "nbformat": 4,
 "nbformat_minor": 2
}
