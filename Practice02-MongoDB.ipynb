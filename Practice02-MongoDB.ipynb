{
 "cells": [
  {
   "cell_type": "code",
   "execution_count": 1,
   "metadata": {},
   "outputs": [],
   "source": [
    "\n",
    "from pymongo.mongo_client import MongoClient\n",
    "\n",
    "uri = \"mongodb+srv://mongo_user:<password>@cluster0.76shxvp.mongodb.net/?retryWrites=true&w=majority\"\n",
    "client = MongoClient(uri)"
   ]
  },
  {
   "cell_type": "code",
   "execution_count": 9,
   "metadata": {},
   "outputs": [
    {
     "data": {
      "text/plain": [
       "Database(MongoClient(host=['ac-yut4mtt-shard-00-00.76shxvp.mongodb.net:27017', 'ac-yut4mtt-shard-00-02.76shxvp.mongodb.net:27017', 'ac-yut4mtt-shard-00-01.76shxvp.mongodb.net:27017'], document_class=dict, tz_aware=False, connect=True, retrywrites=True, w='majority', authsource='admin', replicaset='atlas-dxrrwl-shard-0', tls=True), 'test')"
      ]
     },
     "execution_count": 9,
     "metadata": {},
     "output_type": "execute_result"
    }
   ],
   "source": [
    "client.test"
   ]
  },
  {
   "cell_type": "code",
   "execution_count": 10,
   "metadata": {},
   "outputs": [
    {
     "data": {
      "text/plain": [
       "['ineuron', 'admin', 'local']"
      ]
     },
     "execution_count": 10,
     "metadata": {},
     "output_type": "execute_result"
    }
   ],
   "source": [
    "client.list_database_names()"
   ]
  },
  {
   "cell_type": "code",
   "execution_count": 11,
   "metadata": {},
   "outputs": [],
   "source": [
    "db = client['ineuron']"
   ]
  },
  {
   "cell_type": "code",
   "execution_count": 12,
   "metadata": {},
   "outputs": [],
   "source": [
    "coll = db['ineuron_collection']"
   ]
  },
  {
   "cell_type": "code",
   "execution_count": 13,
   "metadata": {},
   "outputs": [
    {
     "data": {
      "text/plain": [
       "15"
      ]
     },
     "execution_count": 13,
     "metadata": {},
     "output_type": "execute_result"
    }
   ],
   "source": [
    "coll.estimated_document_count()"
   ]
  },
  {
   "cell_type": "code",
   "execution_count": 9,
   "metadata": {},
   "outputs": [],
   "source": [
    "dict1 = {\n",
    "            \"name\" : \"SAHEEN\",\n",
    "            \"email\" : \"adjjd@gmail.com\",\n",
    "            \"product\" : \"Big Data\",\n",
    "            \"Company\" : \"ineuron\"\n",
    "        }"
   ]
  },
  {
   "cell_type": "code",
   "execution_count": 15,
   "metadata": {},
   "outputs": [
    {
     "data": {
      "text/plain": [
       "<pymongo.results.InsertOneResult at 0x20db540f820>"
      ]
     },
     "execution_count": 15,
     "metadata": {},
     "output_type": "execute_result"
    }
   ],
   "source": [
    "coll.insert_one(dict1)"
   ]
  },
  {
   "cell_type": "code",
   "execution_count": 18,
   "metadata": {},
   "outputs": [
    {
     "data": {
      "text/plain": [
       "<pymongo.results.InsertManyResult at 0x20db5af01c0>"
      ]
     },
     "execution_count": 18,
     "metadata": {},
     "output_type": "execute_result"
    }
   ],
   "source": [
    "coll.insert_many([{\n",
    "                    \"name\" : \"Hiza\",\n",
    "                    \"email\" : \"adjda@gmail.com\",\n",
    "                    \"product\" : \"FSDS\",\n",
    "                    \"Company\" : \"ineuron\"\n",
    "                 },\n",
    "                 {\n",
    "                    \"name\" : \"FAR\",\n",
    "                    \"email\" : \"add@gmail.com\",\n",
    "                    \"product\" : \"DS\",\n",
    "                    \"Company\" : \"ineuron\"\n",
    "                 },\n",
    "                 {\n",
    "                    \"name\" : \"AHZ\",\n",
    "                    \"email\" : \"afgfg@gmail.com\",\n",
    "                    \"product\" : \"DA\",\n",
    "                    \"Company\" : \"ineuron\"\n",
    "                 }])"
   ]
  },
  {
   "cell_type": "code",
   "execution_count": 20,
   "metadata": {},
   "outputs": [
    {
     "data": {
      "text/plain": [
       "<pymongo.cursor.Cursor at 0x20db5ddbac0>"
      ]
     },
     "execution_count": 20,
     "metadata": {},
     "output_type": "execute_result"
    }
   ],
   "source": [
    "coll.find()"
   ]
  },
  {
   "cell_type": "code",
   "execution_count": 21,
   "metadata": {},
   "outputs": [
    {
     "name": "stdout",
     "output_type": "stream",
     "text": [
      "{'_id': ObjectId('6463d2d5932cb75fd16e24aa'), 'name': 'SAHEEN', 'email': 'adjjd@gmail.com', 'product': 'Big Data', 'Company': 'ineuron'}\n",
      "{'_id': ObjectId('6463d445932cb75fd16e24ab'), 'name': 'Hiza', 'email': 'adjda@gmail.com', 'product': 'FSDS', 'Company': 'ineuron'}\n",
      "{'_id': ObjectId('6463d445932cb75fd16e24ac'), 'name': 'FAR', 'email': 'add@gmail.com', 'product': 'DS', 'Company': 'ineuron'}\n",
      "{'_id': ObjectId('6463d445932cb75fd16e24ad'), 'name': 'AHZ', 'email': 'afgfg@gmail.com', 'product': 'DA', 'Company': 'ineuron'}\n"
     ]
    }
   ],
   "source": [
    "for i in coll.find():\n",
    "    print(i)"
   ]
  },
  {
   "cell_type": "code",
   "execution_count": 27,
   "metadata": {},
   "outputs": [
    {
     "data": {
      "text/plain": [
       "<pymongo.results.InsertManyResult at 0x20db5d75c30>"
      ]
     },
     "execution_count": 27,
     "metadata": {},
     "output_type": "execute_result"
    }
   ],
   "source": [
    "# Adding json dumps with a different schema\n",
    "\n",
    "coll.insert_many(\n",
    "                    [\n",
    "                        \n",
    "                        {\"account_id\": 487188, \"limit\": 10000, \"products\": [\"Brokerage\", \"CurrencyService\", \"InvestmentStock\"]},\n",
    "                        {\"account_id\": 984021, \"limit\": 10000, \"products\": [\"InvestmentFund\", \"Derivatives\", \"InvestmentStock\"]},\n",
    "                        {\"account_id\": 403363, \"limit\": 10000, \"products\": [\"CurrencyService\", \"InvestmentFund\", \"InvestmentStock\", \"Derivatives\"]},\n",
    "                        {\"account_id\": 423171, \"limit\": 10000, \"products\": [\"Brokerage\", \"CurrencyService\", \"Derivatives\", \"InvestmentStock\"]},\n",
    "                        {\"account_id\": 827328, \"limit\": 10000, \"products\": [\"Derivatives\", \"InvestmentStock\"]},\n",
    "                        {\"account_id\": 55958, \"limit\": 10000, \"products\": [\"InvestmentFund\", \"InvestmentStock\", \"CurrencyService\", \"Commodity\"]},\n",
    "                        {\"account_id\": 260499, \"limit\": 10000, \"products\": [\"InvestmentFund\", \"Derivatives\", \"InvestmentStock\"]},\n",
    "                        {\"account_id\": 126444, \"limit\": 10000, \"products\": [\"Brokerage\", \"CurrencyService\", \"InvestmentStock\", \"InvestmentFund\"]},\n",
    "                        {\"account_id\": 275355, \"limit\": 10000, \"products\": [\"Brokerage\", \"Derivatives\", \"InvestmentStock\", \"CurrencyService\"]},\n",
    "                        {\"account_id\": 870466, \"limit\": 10000, \"products\": [\"Derivatives\", \"Brokerage\", \"Commodity\", \"InvestmentStock\"]},\n",
    "                        {\"account_id\": 581161, \"limit\": 10000, \"products\": [\"CurrencyService\", \"InvestmentStock\"]},\n",
    "                        {\"account_id\": 595194, \"limit\": 10000, \"products\": [\"Commodity\", \"Derivatives\", \"InvestmentStock\"]}\n",
    "                    ]\n",
    "\n",
    "                )"
   ]
  },
  {
   "cell_type": "code",
   "execution_count": 35,
   "metadata": {},
   "outputs": [
    {
     "name": "stdout",
     "output_type": "stream",
     "text": [
      "{'_id': ObjectId('6463d2d5932cb75fd16e24aa'), 'name': 'SAHEEN', 'email': 'adjjd@gmail.com', 'product': 'Big Data', 'Company': 'ineuron'}\n",
      "{'_id': ObjectId('6463d445932cb75fd16e24ab'), 'name': 'Hiza', 'email': 'adjda@gmail.com', 'product': 'FSDS', 'Company': 'ineuron'}\n",
      "{'_id': ObjectId('6463d445932cb75fd16e24ac'), 'name': 'FAR', 'email': 'add@gmail.com', 'product': 'DS', 'Company': 'ineuron'}\n",
      "{'_id': ObjectId('6463d445932cb75fd16e24ad'), 'name': 'AHZ', 'email': 'afgfg@gmail.com', 'product': 'DA', 'Company': 'ineuron'}\n",
      "{'_id': ObjectId('6463d771932cb75fd16e24ae'), 'account_id': 487188, 'limit': 10000, 'products': ['Brokerage', 'CurrencyService', 'InvestmentStock']}\n",
      "{'_id': ObjectId('6463d771932cb75fd16e24af'), 'account_id': 984021, 'limit': 10000, 'products': ['InvestmentFund', 'Derivatives', 'InvestmentStock']}\n",
      "{'_id': ObjectId('6463d771932cb75fd16e24b0'), 'account_id': 403363, 'limit': 10000, 'products': ['CurrencyService', 'InvestmentFund', 'InvestmentStock', 'Derivatives']}\n",
      "{'_id': ObjectId('6463d771932cb75fd16e24b1'), 'account_id': 423171, 'limit': 10000, 'products': ['Brokerage', 'CurrencyService', 'Derivatives', 'InvestmentStock']}\n",
      "{'_id': ObjectId('6463d771932cb75fd16e24b2'), 'account_id': 827328, 'limit': 10000, 'products': ['Derivatives', 'InvestmentStock']}\n",
      "{'_id': ObjectId('6463d771932cb75fd16e24b3'), 'account_id': 55958, 'limit': 10000, 'products': ['InvestmentFund', 'InvestmentStock', 'CurrencyService', 'Commodity']}\n",
      "{'_id': ObjectId('6463d771932cb75fd16e24b4'), 'account_id': 260499, 'limit': 10000, 'products': ['InvestmentFund', 'Derivatives', 'InvestmentStock']}\n",
      "{'_id': ObjectId('6463d771932cb75fd16e24b5'), 'account_id': 126444, 'limit': 10000, 'products': ['Brokerage', 'CurrencyService', 'InvestmentStock', 'InvestmentFund']}\n",
      "{'_id': ObjectId('6463d771932cb75fd16e24b6'), 'account_id': 275355, 'limit': 10000, 'products': ['Brokerage', 'Derivatives', 'InvestmentStock', 'CurrencyService']}\n",
      "{'_id': ObjectId('6463d771932cb75fd16e24b7'), 'account_id': 870466, 'limit': 10000, 'products': ['Derivatives', 'Brokerage', 'Commodity', 'InvestmentStock']}\n",
      "{'_id': ObjectId('6463d771932cb75fd16e24b8'), 'account_id': 581161, 'limit': 10000, 'products': ['CurrencyService', 'InvestmentStock']}\n",
      "{'_id': ObjectId('6463d771932cb75fd16e24b9'), 'account_id': 595194, 'limit': 10000, 'products': ['Commodity', 'Derivatives', 'InvestmentStock']}\n"
     ]
    }
   ],
   "source": [
    "for i in coll.find():\n",
    "    print(i)"
   ]
  },
  {
   "cell_type": "code",
   "execution_count": 32,
   "metadata": {},
   "outputs": [
    {
     "data": {
      "text/plain": [
       "<pymongo.cursor.Cursor at 0x20db5e95b10>"
      ]
     },
     "execution_count": 32,
     "metadata": {},
     "output_type": "execute_result"
    }
   ],
   "source": [
    "coll.find({},{'name': 'SAHEEN'})"
   ]
  },
  {
   "cell_type": "code",
   "execution_count": 36,
   "metadata": {},
   "outputs": [
    {
     "name": "stdout",
     "output_type": "stream",
     "text": [
      "{'_id': ObjectId('6463d2d5932cb75fd16e24aa'), 'name': 'SAHEEN', 'email': 'adjjd@gmail.com', 'product': 'Big Data', 'Company': 'ineuron'}\n"
     ]
    }
   ],
   "source": [
    "for i in coll.find({'name': 'SAHEEN'}):\n",
    "    print(i)"
   ]
  },
  {
   "attachments": {},
   "cell_type": "markdown",
   "metadata": {},
   "source": [
    "#### Search Operation using IN() as in sql"
   ]
  },
  {
   "cell_type": "code",
   "execution_count": 41,
   "metadata": {},
   "outputs": [
    {
     "name": "stdout",
     "output_type": "stream",
     "text": [
      "{'_id': ObjectId('6463d2d5932cb75fd16e24aa'), 'name': 'SAHEEN', 'email': 'adjjd@gmail.com', 'product': 'Big Data', 'Company': 'ineuron'}\n",
      "{'_id': ObjectId('6463d445932cb75fd16e24ab'), 'name': 'Hiza', 'email': 'adjda@gmail.com', 'product': 'FSDS', 'Company': 'ineuron'}\n",
      "{'_id': ObjectId('6463d445932cb75fd16e24ac'), 'name': 'FAR', 'email': 'add@gmail.com', 'product': 'DS', 'Company': 'ineuron'}\n",
      "{'_id': ObjectId('6463d445932cb75fd16e24ad'), 'name': 'AHZ', 'email': 'afgfg@gmail.com', 'product': 'DA', 'Company': 'ineuron'}\n"
     ]
    }
   ],
   "source": [
    "for i in coll.find({'name': {'$in':['SAHEEN','Hiza','FAR','AHZ']}}):\n",
    "    print(i)"
   ]
  },
  {
   "cell_type": "code",
   "execution_count": 44,
   "metadata": {},
   "outputs": [
    {
     "name": "stdout",
     "output_type": "stream",
     "text": [
      "{'_id': ObjectId('6463d771932cb75fd16e24af'), 'account_id': 984021, 'limit': 10000, 'products': ['InvestmentFund', 'Derivatives', 'InvestmentStock']}\n",
      "{'_id': ObjectId('6463d771932cb75fd16e24b7'), 'account_id': 870466, 'limit': 10000, 'products': ['Derivatives', 'Brokerage', 'Commodity', 'InvestmentStock']}\n"
     ]
    }
   ],
   "source": [
    "# Filtering data using GREATER THAN OR EQUAL TO\n",
    "\n",
    "for i in coll.find({'account_id':{'$gte':870466} }):\n",
    "    print(i)"
   ]
  },
  {
   "cell_type": "code",
   "execution_count": 46,
   "metadata": {},
   "outputs": [
    {
     "data": {
      "text/plain": [
       "<pymongo.results.UpdateResult at 0x20db5ddbbb0>"
      ]
     },
     "execution_count": 46,
     "metadata": {},
     "output_type": "execute_result"
    }
   ],
   "source": [
    "# UPDATING a document\n",
    "\n",
    "coll.update_one({'name':'FAR'},{'$set':{'name':'AYISHA'}})"
   ]
  },
  {
   "cell_type": "code",
   "execution_count": 48,
   "metadata": {},
   "outputs": [
    {
     "name": "stdout",
     "output_type": "stream",
     "text": [
      "{'_id': ObjectId('6463d2d5932cb75fd16e24aa'), 'name': 'SAHEEN', 'email': 'adjjd@gmail.com', 'product': 'Big Data', 'Company': 'ineuron'}\n",
      "{'_id': ObjectId('6463d445932cb75fd16e24ab'), 'name': 'Hiza', 'email': 'adjda@gmail.com', 'product': 'FSDS', 'Company': 'ineuron'}\n",
      "{'_id': ObjectId('6463d445932cb75fd16e24ac'), 'name': 'AYISHA', 'email': 'add@gmail.com', 'product': 'DS', 'Company': 'ineuron'}\n",
      "{'_id': ObjectId('6463d445932cb75fd16e24ad'), 'name': 'AHZ', 'email': 'afgfg@gmail.com', 'product': 'DA', 'Company': 'ineuron'}\n",
      "{'_id': ObjectId('6463d771932cb75fd16e24ae'), 'account_id': 487188, 'limit': 10000, 'products': ['Brokerage', 'CurrencyService', 'InvestmentStock']}\n"
     ]
    }
   ],
   "source": [
    "for i in coll.find().limit(5):\n",
    "    print(i)"
   ]
  },
  {
   "cell_type": "code",
   "execution_count": 51,
   "metadata": {},
   "outputs": [
    {
     "name": "stdout",
     "output_type": "stream",
     "text": [
      "{'_id': ObjectId('6463d2d5932cb75fd16e24aa'), 'name': 'SAHEEN', 'email': 'adjjd@gmail.com', 'product': 'Big Data', 'Company': 'ineuron'}\n",
      "{'_id': ObjectId('6463d445932cb75fd16e24ab'), 'name': 'Hiza', 'email': 'adjda@gmail.com', 'product': 'FSDS', 'Company': 'ineuron'}\n",
      "{'_id': ObjectId('6463d445932cb75fd16e24ac'), 'name': 'AYISHA', 'email': 'add@gmail.com', 'product': 'DS', 'Company': 'ineuron'}\n",
      "{'_id': ObjectId('6463d445932cb75fd16e24ad'), 'name': 'AHZ', 'email': 'afgfg@gmail.com', 'product': 'DA', 'Company': 'ineuron'}\n",
      "{'_id': ObjectId('6463d771932cb75fd16e24b3'), 'account_id': 55958, 'limit': 10000, 'products': ['InvestmentFund', 'InvestmentStock', 'CurrencyService', 'Commodity']}\n",
      "{'_id': ObjectId('6463d771932cb75fd16e24b5'), 'account_id': 126444, 'limit': 10000, 'products': ['Brokerage', 'CurrencyService', 'InvestmentStock', 'InvestmentFund']}\n"
     ]
    }
   ],
   "source": [
    "# Filtering using NOT GREATER THAN\n",
    "\n",
    "for i in coll.find({'account_id':{'$not': {'$gt':150000} } } ):\n",
    "    print(i)"
   ]
  },
  {
   "cell_type": "code",
   "execution_count": 52,
   "metadata": {},
   "outputs": [
    {
     "data": {
      "text/plain": [
       "{'_id': ObjectId('6463d445932cb75fd16e24ad'),\n",
       " 'name': 'AHZ',\n",
       " 'email': 'afgfg@gmail.com',\n",
       " 'product': 'DA',\n",
       " 'Company': 'ineuron'}"
      ]
     },
     "execution_count": 52,
     "metadata": {},
     "output_type": "execute_result"
    }
   ],
   "source": [
    "# DELETING a particular record\n",
    "\n",
    "coll.find_one_and_delete({'name': 'AHZ'})"
   ]
  },
  {
   "cell_type": "code",
   "execution_count": 53,
   "metadata": {},
   "outputs": [
    {
     "name": "stdout",
     "output_type": "stream",
     "text": [
      "{'_id': ObjectId('6463d2d5932cb75fd16e24aa'), 'name': 'SAHEEN', 'email': 'adjjd@gmail.com', 'product': 'Big Data', 'Company': 'ineuron'}\n",
      "{'_id': ObjectId('6463d445932cb75fd16e24ab'), 'name': 'Hiza', 'email': 'adjda@gmail.com', 'product': 'FSDS', 'Company': 'ineuron'}\n",
      "{'_id': ObjectId('6463d445932cb75fd16e24ac'), 'name': 'AYISHA', 'email': 'add@gmail.com', 'product': 'DS', 'Company': 'ineuron'}\n",
      "{'_id': ObjectId('6463d771932cb75fd16e24ae'), 'account_id': 487188, 'limit': 10000, 'products': ['Brokerage', 'CurrencyService', 'InvestmentStock']}\n",
      "{'_id': ObjectId('6463d771932cb75fd16e24af'), 'account_id': 984021, 'limit': 10000, 'products': ['InvestmentFund', 'Derivatives', 'InvestmentStock']}\n"
     ]
    }
   ],
   "source": [
    "for i in coll.find().limit(5):\n",
    "    print(i)"
   ]
  },
  {
   "attachments": {},
   "cell_type": "markdown",
   "metadata": {},
   "source": [
    "#### Drop the entire collection"
   ]
  },
  {
   "cell_type": "code",
   "execution_count": null,
   "metadata": {},
   "outputs": [],
   "source": [
    "coll.drop()"
   ]
  },
  {
   "attachments": {},
   "cell_type": "markdown",
   "metadata": {},
   "source": [
    "#### Write a function to check if a newly created collection exists or not."
   ]
  },
  {
   "cell_type": "code",
   "execution_count": 17,
   "metadata": {},
   "outputs": [],
   "source": [
    "# Function to verify if function exists or not\n",
    "\n",
    "def checkExistanceCollection(collection_name, db_name, db):\n",
    "    \"\"\"It verifieds the existance if a collection in the database\"\"\"\n",
    "\n",
    "    collection_list = db.list_collection_names()\n",
    "\n",
    "    if collection_name in collection_list:\n",
    "        print(f\"Collection : '{collection_name}' in Database : '{db_name}' Exists\")\n",
    "        return True\n",
    "\n",
    "    print(f\"Collection : '{collection_name}' in Database : '{db_name}' Does not exists OR \\n no documents are present in the collection\")\n",
    "    return False\n"
   ]
  },
  {
   "cell_type": "code",
   "execution_count": 22,
   "metadata": {},
   "outputs": [
    {
     "data": {
      "text/plain": [
       "['ineuron_collection']"
      ]
     },
     "execution_count": 22,
     "metadata": {},
     "output_type": "execute_result"
    }
   ],
   "source": [
    "db.list_collection_names()"
   ]
  },
  {
   "cell_type": "code",
   "execution_count": 23,
   "metadata": {},
   "outputs": [
    {
     "name": "stdout",
     "output_type": "stream",
     "text": [
      "Collection : 'ineuron_collection' in Database : 'ineuron' Exists\n"
     ]
    }
   ],
   "source": [
    "_ = checkExistanceCollection(collection_name='ineuron_collection', db_name='ineuron', db=db)"
   ]
  },
  {
   "cell_type": "code",
   "execution_count": 26,
   "metadata": {},
   "outputs": [],
   "source": [
    "# In the above code, _ = means that we are assigning a nameless variable, which we wont be using any further. \n",
    "# Its just here to be assigned as a variable to improve readability and maintainability of the code."
   ]
  },
  {
   "cell_type": "code",
   "execution_count": 28,
   "metadata": {},
   "outputs": [
    {
     "name": "stdout",
     "output_type": "stream",
     "text": [
      "Collection : 'my_collection' in Database : 'ineuron' Does not exists OR \n",
      " no documents are present in the collection\n"
     ]
    }
   ],
   "source": [
    "variable = checkExistanceCollection(collection_name='my_collection', db_name='ineuron', db=db)"
   ]
  }
 ],
 "metadata": {
  "kernelspec": {
   "display_name": "Python 3",
   "language": "python",
   "name": "python3"
  },
  "language_info": {
   "codemirror_mode": {
    "name": "ipython",
    "version": 3
   },
   "file_extension": ".py",
   "mimetype": "text/x-python",
   "name": "python",
   "nbconvert_exporter": "python",
   "pygments_lexer": "ipython3",
   "version": "3.10.7"
  },
  "orig_nbformat": 4
 },
 "nbformat": 4,
 "nbformat_minor": 2
}
